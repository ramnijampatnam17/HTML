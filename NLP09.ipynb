{
 "cells": [
  {
   "cell_type": "code",
   "execution_count": 1,
   "id": "ba4d17cf",
   "metadata": {},
   "outputs": [
    {
     "name": "stdout",
     "output_type": "stream",
     "text": [
      "Tokens: ['Hello', ',', 'world', '!', 'This', 'is', 'a', 'simple', 'text', 'for', 'tokenization', '.']\n"
     ]
    },
    {
     "name": "stderr",
     "output_type": "stream",
     "text": [
      "[nltk_data] Downloading package punkt to\n",
      "[nltk_data]     C:\\Users\\saini\\AppData\\Roaming\\nltk_data...\n",
      "[nltk_data]   Package punkt is already up-to-date!\n"
     ]
    }
   ],
   "source": [
    "import nltk\n",
    "from nltk.tokenize import word_tokenize\n",
    "nltk.download('punkt')\n",
    "text = \"Hello, world! This is a simple text for tokenization.\"\n",
    "tokens = word_tokenize(text)\n",
    "print(\"Tokens:\", tokens)"
   ]
  },
  {
   "cell_type": "code",
   "execution_count": 2,
   "id": "a5ecdcaa",
   "metadata": {},
   "outputs": [
    {
     "name": "stdout",
     "output_type": "stream",
     "text": [
      "Requirement already satisfied: nltk in c:\\users\\saini\\anaconda3\\lib\\site-packages (3.7)\n",
      "Requirement already satisfied: tqdm in c:\\users\\saini\\anaconda3\\lib\\site-packages (from nltk) (4.64.1)\n",
      "Requirement already satisfied: click in c:\\users\\saini\\anaconda3\\lib\\site-packages (from nltk) (8.0.4)\n",
      "Requirement already satisfied: joblib in c:\\users\\saini\\anaconda3\\lib\\site-packages (from nltk) (1.1.0)\n",
      "Requirement already satisfied: regex>=2021.8.3 in c:\\users\\saini\\anaconda3\\lib\\site-packages (from nltk) (2022.7.9)\n",
      "Requirement already satisfied: colorama in c:\\users\\saini\\anaconda3\\lib\\site-packages (from click->nltk) (0.4.5)\n"
     ]
    }
   ],
   "source": [
    "! pip install nltk"
   ]
  },
  {
   "cell_type": "code",
   "execution_count": 3,
   "id": "b2a54e1d",
   "metadata": {},
   "outputs": [
    {
     "name": "stdout",
     "output_type": "stream",
     "text": [
      "Tokens: ['Hello', ',', 'world', '!', 'This', 'is', 'a', 'simple', 'text', 'for', 'tokenization', '.']\n"
     ]
    },
    {
     "name": "stderr",
     "output_type": "stream",
     "text": [
      "[nltk_data] Downloading package punkt to\n",
      "[nltk_data]     C:\\Users\\saini\\AppData\\Roaming\\nltk_data...\n",
      "[nltk_data]   Package punkt is already up-to-date!\n"
     ]
    }
   ],
   "source": [
    "import nltk\n",
    "from nltk.tokenize import word_tokenize\n",
    "nltk.download('punkt')\n",
    "text = \"Hello, world! This is a simple text for tokenization.\"\n",
    "tokens = word_tokenize(text)\n",
    "print(\"Tokens:\", tokens)"
   ]
  },
  {
   "cell_type": "code",
   "execution_count": 4,
   "id": "781c6fef",
   "metadata": {},
   "outputs": [
    {
     "name": "stdout",
     "output_type": "stream",
     "text": [
      "Lowercase Text: hello world\n"
     ]
    }
   ],
   "source": [
    "text = \"Hello World\"\n",
    "lowercase_text = text.lower()\n",
    "print(\"Lowercase Text:\", lowercase_text)"
   ]
  },
  {
   "cell_type": "code",
   "execution_count": 5,
   "id": "0f29b2d2",
   "metadata": {},
   "outputs": [
    {
     "name": "stdout",
     "output_type": "stream",
     "text": [
      "Cleaned Text: Hello World\n"
     ]
    }
   ],
   "source": [
    "import string \n",
    "import re\n",
    "text = \"Hello World!\"\n",
    "cleaned_text = re.sub(r'[^\\w\\s]', '',text)\n",
    "print(\"Cleaned Text:\", cleaned_text)"
   ]
  },
  {
   "cell_type": "code",
   "execution_count": 11,
   "id": "382bd5da",
   "metadata": {},
   "outputs": [
    {
     "name": "stdout",
     "output_type": "stream",
     "text": [
      "Filtered Text: quick brown fox jumps lazy dog\n"
     ]
    },
    {
     "name": "stderr",
     "output_type": "stream",
     "text": [
      "[nltk_data] Downloading package stopwords to\n",
      "[nltk_data]     C:\\Users\\saini\\AppData\\Roaming\\nltk_data...\n",
      "[nltk_data]   Package stopwords is already up-to-date!\n"
     ]
    }
   ],
   "source": [
    "import nltk \n",
    "from nltk.corpus import stopwords\n",
    "nltk.download('stopwords')\n",
    "text = \"The quick brown fox jumps over the lazy dog\"\n",
    "words = text.split()\n",
    "stop_words = set(stopwords.words('english'))\n",
    "filtered_words = [word for word in words if word.lower() not in stop_words]\n",
    "filtered_text = ' '.join(filtered_words)\n",
    "print(\"Filtered Text:\", filtered_text)"
   ]
  },
  {
   "cell_type": "code",
   "execution_count": 7,
   "id": "32911ae6",
   "metadata": {},
   "outputs": [
    {
     "name": "stdout",
     "output_type": "stream",
     "text": [
      "Original Text: నాకు ఈ రోజు సమయం లేదు, కానీ మీరు కలవగలరా?\n",
      "Filtered Text: రోజు సమయం లేదు , మీరు కలవగలరా ?\n"
     ]
    },
    {
     "name": "stderr",
     "output_type": "stream",
     "text": [
      "[nltk_data] Downloading package punkt to\n",
      "[nltk_data]     C:\\Users\\saini\\AppData\\Roaming\\nltk_data...\n",
      "[nltk_data]   Package punkt is already up-to-date!\n"
     ]
    }
   ],
   "source": [
    "import nltk\n",
    "from nltk.tokenize import word_tokenize\n",
    "\n",
    "\n",
    "nltk.download('punkt')\n",
    "\n",
    "\n",
    "telugu_stop_words = set([\n",
    "    \"అంటే\", \"అని\", \"ఇది\", \"ఆ\", \"మరియు\", \"తను\", \"ఎక్కువ\", \"ఉందే\", \"సాధ్యం\", \n",
    "    \"కానీ\", \"నన్ను\", \"నేను\", \"ఈ\", \"ఆది\", \"ఈమె\", \"అప్పుడు\", \"నాకు\", \"ఆమె\", \"నిజం\", \n",
    "    \"మూడు\", \"పాటు\", \"ఒక\", \"అందు\", \"మీ\", \"వంటి\", \"ఏ\", \"మీది\", \"సమస్య\", \"తగ్గదు\",\n",
    "    \"అందరికీ\", \"వద్ద\", \"ఉంది\", \"లేదా\", \"కొంచెం\", \"ఆకలు\", \"తప్ప\", \"పని\"\n",
    "])\n",
    "\n",
    "def remove_stop_words(text):\n",
    "   \n",
    "    words = word_tokenize(text)\n",
    "    \n",
    "    \n",
    "    filtered_words = [word for word in words if word not in telugu_stop_words]\n",
    "    \n",
    "    \n",
    "    return \" \".join(filtered_words)\n",
    "input_text = \"నాకు ఈ రోజు సమయం లేదు, కానీ మీరు కలవగలరా?\"\n",
    "output_text = remove_stop_words(input_text)\n",
    "\n",
    "print(\"Original Text:\", input_text)\n",
    "print(\"Filtered Text:\", output_text)"
   ]
  },
  {
   "cell_type": "code",
   "execution_count": 8,
   "id": "4052e854",
   "metadata": {},
   "outputs": [
    {
     "name": "stdout",
     "output_type": "stream",
     "text": [
      "Stemmed_words: ['run', 'happier', 'better', 'dog', 'jump']\n"
     ]
    },
    {
     "name": "stderr",
     "output_type": "stream",
     "text": [
      "[nltk_data] Downloading package punkt to\n",
      "[nltk_data]     C:\\Users\\saini\\AppData\\Roaming\\nltk_data...\n",
      "[nltk_data]   Package punkt is already up-to-date!\n"
     ]
    }
   ],
   "source": [
    "import nltk \n",
    "from nltk.stem import PorterStemmer\n",
    "nltk.download('punkt')\n",
    "words = [\"running\",\"happier\",\"better\",\"dogs\",\"jumping\"]\n",
    "stemmer = PorterStemmer()\n",
    "stemmed_words = [stemmer.stem(word) for word in words]\n",
    "print(\"Stemmed_words:\", stemmed_words)"
   ]
  },
  {
   "cell_type": "code",
   "execution_count": 10,
   "id": "a8602f4e",
   "metadata": {},
   "outputs": [
    {
     "name": "stdout",
     "output_type": "stream",
     "text": [
      "Cleaned Text: Hello world Hows it going\n"
     ]
    }
   ],
   "source": [
    "import string \n",
    "import re\n",
    "text = \"Hello, world! How's it going\"\n",
    "cleaned_text = re.sub(r'[^\\w\\s]', '', text)\n",
    "print(\"Cleaned Text:\", cleaned_text)"
   ]
  },
  {
   "cell_type": "code",
   "execution_count": 19,
   "id": "c00b2bb2",
   "metadata": {},
   "outputs": [
    {
     "name": "stdout",
     "output_type": "stream",
     "text": [
      "Cleaned Text: HelloWorld\n"
     ]
    }
   ],
   "source": [
    "import string \n",
    "import re\n",
    "text = \"Hello,World!!\"\n",
    "cleaned_text = re.sub(r'[^\\w\\s]', '',text)\n",
    "print(\"Cleaned Text:\", cleaned_text)"
   ]
  },
  {
   "cell_type": "code",
   "execution_count": 21,
   "id": "0a925c3b",
   "metadata": {},
   "outputs": [
    {
     "name": "stdout",
     "output_type": "stream",
     "text": [
      "The smallest token is 'is' with a length of 2.\n"
     ]
    }
   ],
   "source": [
    "#maximum length token within a corpus\n",
    "import re\n",
    "def preprocess_corpus(corpus):\n",
    "    return re.findall(r'\\w+', corpus)\n",
    "def find_minimum_length_token(corpus):\n",
    "    tokens = preprocess_corpus(corpus)\n",
    "    if not tokens:\n",
    "        return None, 0  \n",
    "    min_token = min(tokens, key=len) \n",
    "    return min_token, len(min_token)\n",
    "corpus = \"This is an example to demonstrate finding the smallest token.\"\n",
    "min_token, min_length = find_minimum_length_token(corpus)\n",
    "print(f\"The smallest token is '{min_token}' with a length of {min_length}.\")\n"
   ]
  },
  {
   "cell_type": "code",
   "execution_count": null,
   "id": "5f227cd8",
   "metadata": {},
   "outputs": [],
   "source": []
  }
 ],
 "metadata": {
  "kernelspec": {
   "display_name": "Python 3 (ipykernel)",
   "language": "python",
   "name": "python3"
  },
  "language_info": {
   "codemirror_mode": {
    "name": "ipython",
    "version": 3
   },
   "file_extension": ".py",
   "mimetype": "text/x-python",
   "name": "python",
   "nbconvert_exporter": "python",
   "pygments_lexer": "ipython3",
   "version": "3.9.13"
  }
 },
 "nbformat": 4,
 "nbformat_minor": 5
}
