{
  "nbformat": 4,
  "nbformat_minor": 0,
  "metadata": {
    "colab": {
      "provenance": []
    },
    "kernelspec": {
      "name": "python3",
      "display_name": "Python 3"
    },
    "language_info": {
      "name": "python"
    }
  },
  "cells": [
    {
      "cell_type": "code",
      "source": [
        "print(dir(str))"
      ],
      "metadata": {
        "colab": {
          "base_uri": "https://localhost:8080/"
        },
        "id": "lxF8cW906R_U",
        "outputId": "6d0c1f23-838b-4705-dc62-cc3462da8e22"
      },
      "execution_count": 2,
      "outputs": [
        {
          "output_type": "stream",
          "name": "stdout",
          "text": [
            "['__add__', '__class__', '__contains__', '__delattr__', '__dir__', '__doc__', '__eq__', '__format__', '__ge__', '__getattribute__', '__getitem__', '__getnewargs__', '__gt__', '__hash__', '__init__', '__init_subclass__', '__iter__', '__le__', '__len__', '__lt__', '__mod__', '__mul__', '__ne__', '__new__', '__reduce__', '__reduce_ex__', '__repr__', '__rmod__', '__rmul__', '__setattr__', '__sizeof__', '__str__', '__subclasshook__', 'capitalize', 'casefold', 'center', 'count', 'encode', 'endswith', 'expandtabs', 'find', 'format', 'format_map', 'index', 'isalnum', 'isalpha', 'isascii', 'isdecimal', 'isdigit', 'isidentifier', 'islower', 'isnumeric', 'isprintable', 'isspace', 'istitle', 'isupper', 'join', 'ljust', 'lower', 'lstrip', 'maketrans', 'partition', 'removeprefix', 'removesuffix', 'replace', 'rfind', 'rindex', 'rjust', 'rpartition', 'rsplit', 'rstrip', 'split', 'splitlines', 'startswith', 'strip', 'swapcase', 'title', 'translate', 'upper', 'zfill']\n"
          ]
        }
      ]
    },
    {
      "cell_type": "code",
      "source": [
        "a = 'Hello World'\n",
        "b = a.swapcase()\n",
        "print(b)"
      ],
      "metadata": {
        "colab": {
          "base_uri": "https://localhost:8080/"
        },
        "id": "hzcxxIWF7DiC",
        "outputId": "8c5c1602-3630-4a39-9e78-c475f91ad6e4"
      },
      "execution_count": 3,
      "outputs": [
        {
          "output_type": "stream",
          "name": "stdout",
          "text": [
            "hELLO wORLD\n"
          ]
        }
      ]
    },
    {
      "cell_type": "code",
      "source": [
        "a = 'Hello World'\n",
        "b = a.count('1')\n",
        "print(b)"
      ],
      "metadata": {
        "colab": {
          "base_uri": "https://localhost:8080/"
        },
        "id": "9ceUiRa87i71",
        "outputId": "74a3f937-659d-4010-bfe0-a42513357eb0"
      },
      "execution_count": 5,
      "outputs": [
        {
          "output_type": "stream",
          "name": "stdout",
          "text": [
            "0\n"
          ]
        }
      ]
    },
    {
      "cell_type": "code",
      "source": [
        "a = 'Hello World'\n",
        "b = a.title()\n",
        "c = a.replace('hello','hii')\n",
        "print(b)\n",
        "print(c)"
      ],
      "metadata": {
        "colab": {
          "base_uri": "https://localhost:8080/"
        },
        "id": "E_14kqrq71ZP",
        "outputId": "d8217d0f-ad03-45aa-f4a6-42d08a12e852"
      },
      "execution_count": 8,
      "outputs": [
        {
          "output_type": "stream",
          "name": "stdout",
          "text": [
            "Hello World\n",
            "Hello World\n"
          ]
        }
      ]
    },
    {
      "cell_type": "code",
      "source": [
        "a = range(10000)\n",
        "b = list(a)\n",
        "print(b)"
      ],
      "metadata": {
        "colab": {
          "base_uri": "https://localhost:8080/"
        },
        "id": "UU15Zst99fRQ",
        "outputId": "ef7f4251-b606-419a-af39-e3c9080b4c18"
      },
      "execution_count": 11,
      "outputs": [
        {
          "output_type": "stream",
          "name": "stdout",
          "text": [
            "[0, 1, 2, 3, 4, 5, 6, 7, 8, 9, 10, 11, 12, 13, 14, 15, 16, 17, 18, 19, 20, 21, 22, 23, 24, 25, 26, 27, 28, 29, 30, 31, 32, 33, 34, 35, 36, 37, 38, 39, 40, 41, 42, 43, 44, 45, 46, 47, 48, 49, 50, 51, 52, 53, 54, 55, 56, 57, 58, 59, 60, 61, 62, 63, 64, 65, 66, 67, 68, 69, 70, 71, 72, 73, 74, 75, 76, 77, 78, 79, 80, 81, 82, 83, 84, 85, 86, 87, 88, 89, 90, 91, 92, 93, 94, 95, 96, 97, 98, 99]\n"
          ]
        }
      ]
    },
    {
      "cell_type": "code",
      "source": [
        "my_list = list(range(5,15,2))\n",
        "print(my_list)"
      ],
      "metadata": {
        "colab": {
          "base_uri": "https://localhost:8080/"
        },
        "id": "cM_sr-0U9xUi",
        "outputId": "a209a923-c798-46ba-bdde-f8955dbcac70"
      },
      "execution_count": 10,
      "outputs": [
        {
          "output_type": "stream",
          "name": "stdout",
          "text": [
            "[5, 7, 9, 11, 13]\n"
          ]
        }
      ]
    },
    {
      "cell_type": "code",
      "source": [
        "def add_numbers (a,b):\n",
        "  result = a + b\n",
        "  return result\n",
        "  print(add_number('hello world'))"
      ],
      "metadata": {
        "id": "bvqKzZ6q_mzY"
      },
      "execution_count": 18,
      "outputs": []
    },
    {
      "cell_type": "code",
      "source": [
        "def add_numbers (a,b):\n",
        "  result = a + b\n",
        "  return result\n",
        "print(add_numbers(10,20))"
      ],
      "metadata": {
        "colab": {
          "base_uri": "https://localhost:8080/"
        },
        "id": "azVD-BPH_xDz",
        "outputId": "59908316-02ff-463c-9348-34a4c674ee3a"
      },
      "execution_count": 17,
      "outputs": [
        {
          "output_type": "stream",
          "name": "stdout",
          "text": [
            "30\n"
          ]
        }
      ]
    },
    {
      "cell_type": "code",
      "source": [
        "def calculate_sum(*args):\n",
        "  total = sum(args)\n",
        "  return total\n",
        "print(\"sum of 1,2,3,:\", calculate_sum(1,2,3))\n",
        "print(\"sum of 1,2,3,4:\", calculate_sum(1,2,3,4))"
      ],
      "metadata": {
        "colab": {
          "base_uri": "https://localhost:8080/"
        },
        "id": "vowBSF27C1gK",
        "outputId": "e120867a-b13d-4556-98ce-36df297773f4"
      },
      "execution_count": 33,
      "outputs": [
        {
          "output_type": "stream",
          "name": "stdout",
          "text": [
            "sum of 1,2,3,: 6\n",
            "sum of 1,2,3,4: 10\n"
          ]
        }
      ]
    },
    {
      "cell_type": "code",
      "source": [
        " correct_username = 'admin'\n",
        "correct_password = '1234'\n",
        "while True:\n",
        "  username = input(\"Enter your username:\")\n",
        "  password = input(\"Enter your password:\")\n",
        "  if username == correct_username and password == correct_password:\n",
        "    print(\"Login successful\")\n",
        "    break\n",
        "  else:\n",
        "      print(\"Invalid username or password. please try again\")\n"
      ],
      "metadata": {
        "colab": {
          "base_uri": "https://localhost:8080/"
        },
        "id": "hw-7eS7-DWgm",
        "outputId": "e674402c-17f3-4370-baeb-d2ac9fe2b0d8"
      },
      "execution_count": null,
      "outputs": [
        {
          "name": "stdout",
          "output_type": "stream",
          "text": [
            "Enter your username:sai\n",
            "Enter your password:charan\n",
            "Invalid username or password. please try again\n",
            "Enter your username:sairammm\n",
            "Enter your password:yashhhhh\n",
            "Invalid username or password. please try again\n",
            "Enter your username:saiii\n",
            "Enter your password:charn\n",
            "Invalid username or password. please try again\n",
            "Enter your username:sai\n",
            "Enter your password:charan\n",
            "Invalid username or password. please try again\n",
            "Enter your username:sai\n",
            "Enter your password:charan\n",
            "Invalid username or password. please try again\n",
            "Enter your username:sai \n",
            "Enter your password:charan\n",
            "Invalid username or password. please try again\n",
            "Enter your username:sai \n"
          ]
        }
      ]
    }
  ]
}